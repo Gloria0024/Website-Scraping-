import requests
from bs4 import BeautifulSoup
import csv

# URL of the page to scrape
url = 'https://www.worldometers.info/world-population/population-by-country/'

# Make a request to fetch the HTML content of the page
response = requests.get(url)
response.raise_for_status()  # Check that the request was successful

# Parse the HTML content using BeautifulSoup
soup = BeautifulSoup(response.content, 'html.parser')

# Find the table containing the data
table = soup.find('table', id='example2')

# Initialize a list to store the data
data = []

# Extract table headers
headers = [header.text for header in table.find_all('th')]
data.append(headers)

# Extract table rows
for row in table.find('tbody').find_all('tr'):
    columns = row.find_all('td')
    data.append([column.text.strip() for column in columns])

# Save the data to a CSV file
with open('population_by_country.csv', 'w', newline='') as file:
    writer = csv.writer(file)
    writer.writerows(data)

print("Data has been successfully scraped and saved to 'population_by_country.csv'.")
